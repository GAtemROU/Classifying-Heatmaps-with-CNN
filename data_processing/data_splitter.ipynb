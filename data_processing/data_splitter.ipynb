{
 "cells": [
  {
   "cell_type": "code",
   "execution_count": 18,
   "id": "90e4605c",
   "metadata": {},
   "outputs": [],
   "source": [
    "import os\n",
    "from shutil import copy\n",
    "\n",
    "project_path = \"C:/Users/Admin/projects/eyetr\"\n",
    "root = \"/data/raw_data\"\n",
    "savepath_type = lambda a: f\"/data/{a}_images/\"\n",
    "\n",
    "\n",
    "\n",
    "\n",
    "for filename in os.listdir(project_path+root):\n",
    "    im_type = filename[-5]\n",
    "    im_class = filename[-7]\n",
    "    copy(project_path+root+'/'+filename, project_path+savepath_type(im_type)+im_class+'/'+filename)"
   ]
  },
  {
   "cell_type": "code",
   "execution_count": null,
   "id": "2fcea226",
   "metadata": {},
   "outputs": [],
   "source": []
  }
 ],
 "metadata": {
  "kernelspec": {
   "display_name": "Python 3 (ipykernel)",
   "language": "python",
   "name": "python3"
  },
  "language_info": {
   "codemirror_mode": {
    "name": "ipython",
    "version": 3
   },
   "file_extension": ".py",
   "mimetype": "text/x-python",
   "name": "python",
   "nbconvert_exporter": "python",
   "pygments_lexer": "ipython3",
   "version": "3.11.6"
  }
 },
 "nbformat": 4,
 "nbformat_minor": 5
}
