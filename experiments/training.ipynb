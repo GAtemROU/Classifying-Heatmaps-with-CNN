{
 "cells": [
  {
   "cell_type": "code",
   "execution_count": null,
   "id": "7b7acad6",
   "metadata": {},
   "outputs": [],
   "source": [
    "import os\n",
    "import torch\n",
    "import torch.nn as nn\n",
    "import torch.optim as optim\n",
    "from os.path import join\n",
    "import datetime\n",
    "\n",
    "from models.base_line import BasicModel\n",
    "from training.trainer_base import Trainer\n",
    "from data.transforms import ResizeTransform\n",
    "from modules.cross_validation import MyKFoldCV\n",
    "from modules.dataset_handling import DatasetHandler\n",
    "from modules.logging import MyLogger\n",
    "from utils.metrics import compute_confusion_matrices, compute_accuracy, compute_f1score\n",
    "from utils.visulisation import visualize_confusion_matrices\n",
    "\n",
    "\n",
    "torch.manual_seed(42)\n",
    "\n",
    "\n",
    "in_size = 128\n",
    "out_size = 2\n",
    "\n",
    "project_path = \"/home/gatemrou/uds/Eye_Tracking/\"\n",
    "assert(os.path.exists(project_path))"
   ]
  },
  {
   "cell_type": "code",
   "execution_count": null,
   "id": "b694c882",
   "metadata": {},
   "outputs": [],
   "source": [
    "data_type = 'scanpath'       # scanpath or heatmap\n",
    "scanpath_type = 'b'       # a, b or c\n",
    "model_type = 'base'      # def_cnn\n",
    "\n",
    "device = torch.device(\"cuda\" if torch.cuda.is_available() else \"cpu\")\n",
    "if model_type == 'base':\n",
    "    model = BasicModel(in_size, out_size)\n",
    "print('using device: ' + device.__str__())\n",
    "# Create a dataset from image folder\n",
    "root = join(project_path, 'data/datasets/{}s/'.format(data_type))\n",
    "if data_type == 'scanpath':\n",
    "    root = join(root, '{}/'.format(scanpath_type))\n",
    "\n",
    "transform = ResizeTransform(in_size, in_size)\n",
    "\n",
    "dataset = DatasetHandler(root, transform)\n",
    "\n",
    "outer_kfolds = 8\n",
    "inner_kfolds = 7\n",
    "batch_size = 32\n",
    "\n",
    "outer_cv = MyKFoldCV(dataset, outer_kfolds, create_train_loaders=False, batch_size=batch_size)\n",
    "\n",
    "learning_rate = 0.02\n",
    "\n",
    "# Define the loss function\n",
    "loss = nn.CrossEntropyLoss()\n",
    "\n",
    "logger = MyLogger(join(project_path, 'experiments/{}s{}_{}_{}/'.format(data_type, scanpath_type, model_type, in_size)))\n",
    "\n",
    "cur_time = str(datetime.datetime.now())\n",
    "# Define trainer \n",
    "if data_type == 'scanpath':\n",
    "    save_path = join(project_path, 'saved_models/{}s_{}_{}_{}/'.format(data_type, scanpath_type, model_type, cur_time))\n",
    "else:\n",
    "    save_path = join(project_path, 'saved_models/{}s_{}_{}/'.format(data_type, model_type, cur_time))\n",
    "\n",
    "trainer = Trainer(model, save_path, loss, logger=logger)"
   ]
  },
  {
   "cell_type": "code",
   "execution_count": null,
   "id": "d4f15683",
   "metadata": {},
   "outputs": [],
   "source": [
    "num_epochs = 5\n",
    "\n",
    "for i in range(outer_cv.k):\n",
    "    print(f'outer fold: {i+1}')\n",
    "    trainer.reset()\n",
    "    logger.log_new_fold(i, outer_cv.get_test_participants())\n",
    "    if model_type == 'base':\n",
    "        model = BasicModel(in_size, out_size)\n",
    "    optimizer = optim.SGD(model.parameters(), lr=learning_rate)\n",
    "    trainer.set_optimizer(optimizer)\n",
    "    trainer.set_model(model)\n",
    "    trainer.set_save_path(join(save_path, f'fold_{i+1}'))\n",
    "    inner_cv = MyKFoldCV(dataset, inner_kfolds, ignore=outer_cv.get_test_participants(), batch_size=batch_size)\n",
    "    print('testing on: ', outer_cv.get_test_participants())\n",
    "    print('training on: ', inner_cv.get_participants())\n",
    "    # training\n",
    "    for j in range(inner_cv.k):\n",
    "        print(f'inner fold: {j+1}')\n",
    "        train_loader = inner_cv.get_train_loader()\n",
    "        test_loader = inner_cv.get_test_loader()\n",
    "        print('validating on: ', inner_cv.get_test_participants())\n",
    "        trainer.set_train_loader(train_loader)\n",
    "        trainer.set_val_loader(test_loader)\n",
    "        for _ in range(num_epochs):\n",
    "            trainer.run_epoch()\n",
    "        inner_cv.next_split()\n",
    "    trainer.save_best_model()\n",
    "    trainer.load_best_model()\n",
    "    # testing\n",
    "    test_loader = outer_cv.get_test_loader()\n",
    "    test_model = trainer.model\n",
    "    test_model.eval()\n",
    "    for p in outer_cv.get_test_participants():\n",
    "        assert(p not in inner_cv.get_participants())\n",
    "    acc = compute_accuracy(test_model, test_loader)\n",
    "    f1 = compute_f1score(test_model, test_loader)\n",
    "    cfs = compute_confusion_matrices(test_model, dataset, outer_cv.get_test_participants())\n",
    "    logger.log_test_metrics(acc, f1, cfs)\n",
    "    outer_cv.next_split()\n",
    "logger.log_f1_history()\n",
    "\n"
   ]
  },
  {
   "cell_type": "code",
   "outputs": [],
   "source": [
    "import matplotlib.pyplot as plt\n",
    "import numpy as np\n",
    "\n",
    "for imgs, labs in outer_cv.get_test_loader():\n",
    "    i = 1\n",
    "    lab = labs[i]\n",
    "    input_image = imgs[i].clone().detach().requires_grad_(True)\n",
    "    # Set the model to evaluation mode\n",
    "    trainer.model.eval()\n",
    "    trainer.model.cpu()\n",
    "    \n",
    "    # Forward pass to get the output\n",
    "    output = trainer.model.forward(input_image.unsqueeze(0))  # Adding batch dimension\n",
    "    _, pred = torch.max(output, 1)\n",
    "    # Calculate gradients of the output with respect to the input image\n",
    "    output.squeeze()[pred].backward()\n",
    "    print(output)\n",
    "    # Get the gradients from the input image\n",
    "    gradients = input_image.grad.squeeze().numpy()\n",
    "    gradients[gradients<0] = 0\n",
    "    gradients = gradients / np.max(gradients)\n",
    "\n",
    "    # Plot the gradients\n",
    "    plt.figure(figsize=(8, 6))\n",
    "    plt.imshow(np.transpose(gradients, (1, 2, 0)) )\n",
    "    plt.title(f'Gradients: {pred.item()}')\n",
    "    plt.axis('off')\n",
    "    plt.show()\n",
    "    plt.figure(figsize=(8, 6))\n",
    "    plt.imshow(np.transpose(input_image.detach().cpu().numpy(), (1, 2, 0)) )\n",
    "    plt.title(f'Input image: {lab}')\n",
    "    plt.axis('off')\n",
    "    plt.show()\n",
    "    \n",
    "    "
   ],
   "metadata": {
    "collapsed": false
   },
   "id": "4a5b445e1bdb86bb",
   "execution_count": null
  },
  {
   "cell_type": "code",
   "execution_count": null,
   "id": "84c13db5",
   "metadata": {},
   "outputs": [],
   "source": [
    "trainer.save_best_model()\n",
    "print('testing on: ', outer_cv.get_test_participants())\n",
    "trainer.test(outer_cv.get_test_loader())"
   ]
  },
  {
   "cell_type": "code",
   "execution_count": null,
   "id": "d0dd33f8",
   "metadata": {},
   "outputs": [],
   "source": [
    "test_model = BasicModel(in_size, out_size)\n",
    "test_model.load_state_dict(torch.load(join(project_path, 'saved_models/scanpaths_base/model_epoch_16.pkl')))\n",
    "test_pp = ['10', '11', '13', '14']"
   ]
  },
  {
   "cell_type": "code",
   "execution_count": null,
   "metadata": {
    "collapsed": false
   },
   "outputs": [],
   "source": [
    "print(compute_f1score(test_model, dataset.get_loader(test_pp)))"
   ],
   "id": "b1bd20da7f4bb496"
  },
  {
   "cell_type": "code",
   "execution_count": null,
   "metadata": {
    "collapsed": false
   },
   "outputs": [],
   "source": [
    "print(compute_f1score(test_model, dataset.get_loader(test_pp)))"
   ],
   "id": "ec17ffeb777a3459"
  },
  {
   "cell_type": "code",
   "execution_count": null,
   "metadata": {
    "collapsed": false
   },
   "outputs": [],
   "source": [
    "cfs = compute_confusion_matrices(test_model, dataset, test_pp)"
   ],
   "id": "697851030327294b"
  },
  {
   "cell_type": "code",
   "execution_count": null,
   "metadata": {
    "collapsed": false
   },
   "outputs": [],
   "source": [
    "visualize_confusion_matrices(cfs)"
   ],
   "id": "e332c7f805a5bc3"
  },
  {
   "cell_type": "code",
   "outputs": [],
   "source": [
    "trainer.logger = None\n",
    "trainer.reset()\n",
    "if model_type == 'base':\n",
    "    model = BasicModel(in_size, out_size)\n",
    "optimizer = optim.SGD(model.parameters(), lr=learning_rate)\n",
    "trainer.set_optimizer(optimizer)\n",
    "trainer.set_model(model)\n",
    "inner_cv = MyKFoldCV(dataset, inner_kfolds, ignore=outer_cv.get_test_participants(), batch_size=batch_size)\n",
    "print('testing on: ', outer_cv.get_test_participants())\n",
    "print('training on: ', inner_cv.get_participants())\n",
    "train_loader = inner_cv.get_train_loader()\n",
    "test_loader = inner_cv.get_test_loader()\n",
    "print('validating on: ', inner_cv.get_test_participants())\n",
    "trainer.set_train_loader(train_loader)\n",
    "trainer.set_val_loader(test_loader)"
   ],
   "metadata": {
    "collapsed": false
   },
   "id": "ab61d30c299363a5",
   "execution_count": null
  },
  {
   "cell_type": "code",
   "outputs": [],
   "source": [
    "train_loader = inner_cv.get_train_loader()\n",
    "test_loader = inner_cv.get_test_loader()\n",
    "trainer.set_train_loader(train_loader)\n",
    "trainer.set_val_loader(test_loader)\n",
    "for _ in range(20):\n",
    "    trainer.run_epoch()"
   ],
   "metadata": {
    "collapsed": false
   },
   "id": "37f98c6c400cd573",
   "execution_count": null
  },
  {
   "cell_type": "code",
   "outputs": [],
   "source": [
    "trainer.save_best_model()"
   ],
   "metadata": {
    "collapsed": false
   },
   "id": "9e53248d99cf56d1",
   "execution_count": null
  }
 ],
 "metadata": {
  "kernelspec": {
   "display_name": "Python 3 (ipykernel)",
   "language": "python",
   "name": "python3"
  },
  "language_info": {
   "codemirror_mode": {
    "name": "ipython",
    "version": 3
   },
   "file_extension": ".py",
   "mimetype": "text/x-python",
   "name": "python",
   "nbconvert_exporter": "python",
   "pygments_lexer": "ipython3",
   "version": "3.11.8"
  }
 },
 "nbformat": 4,
 "nbformat_minor": 5
}
