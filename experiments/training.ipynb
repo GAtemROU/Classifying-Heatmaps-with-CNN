{
 "cells": [
  {
   "cell_type": "code",
   "execution_count": 1,
   "id": "7b7acad6",
   "metadata": {
    "ExecuteTime": {
     "end_time": "2024-03-11T14:50:04.913081300Z",
     "start_time": "2024-03-11T14:50:01.855083100Z"
    }
   },
   "outputs": [],
   "source": [
    "import os\n",
    "import torch\n",
    "import torch.nn as nn\n",
    "import torch.optim as optim\n",
    "from os.path import join\n",
    "\n",
    "from models.base_line import BasicModel\n",
    "from training.trainer_base import Trainer\n",
    "from data.transforms import ResizeTransform\n",
    "from utils.cross_validation import MyKFoldCV\n",
    "from utils.dataset_handling import DatasetHandler\n",
    "from utils.metrics import compute_confusion_matrices, compute_accuracy, compute_f1score\n",
    "from utils.visulisation import visualize_confusion_matrices\n",
    "\n",
    "torch.manual_seed(42)\n",
    "\n",
    "\n",
    "in_size = 128\n",
    "out_size = 2\n",
    "\n",
    "project_path = \"C:/Users/Admin/projects/Eye_Tracking/\"\n",
    "assert(os.path.exists(project_path))"
   ]
  },
  {
   "cell_type": "code",
   "execution_count": 2,
   "id": "b694c882",
   "metadata": {
    "ExecuteTime": {
     "end_time": "2024-03-11T14:50:05.071082700Z",
     "start_time": "2024-03-11T14:50:04.947081800Z"
    }
   },
   "outputs": [
    {
     "name": "stdout",
     "output_type": "stream",
     "text": [
      "using device: cuda\n"
     ]
    }
   ],
   "source": [
    "data_type = 'heatmap'       # scanpath or heatmap\n",
    "scanpath_type = None        # a, b or c\n",
    "model_type = 'def_cnn'      # def_cnn\n",
    "\n",
    "device = torch.device(\"cuda\" if torch.cuda.is_available() else \"cpu\")\n",
    "if model_type == 'def_cnn':\n",
    "    model = BasicModel(in_size, out_size)\n",
    "print('using device: ' + device.__str__())\n",
    "# Create a dataset from image folder\n",
    "root = join(project_path, 'data/datasets/{}s/'.format(data_type))\n",
    "if data_type == 'scanpath':\n",
    "    root = join(root, '{}/'.format(scanpath_type))\n",
    "\n",
    "transform = ResizeTransform(in_size, in_size)\n",
    "\n",
    "dataset = DatasetHandler(root, transform)\n",
    "\n",
    "outer_kfolds = 8\n",
    "inner_kfolds = 7\n",
    "batch_size = 32\n",
    "\n",
    "outer_cv = MyKFoldCV(dataset, outer_kfolds, create_train_loaders=False, batch_size=batch_size)\n",
    "inner_cv = MyKFoldCV(dataset, inner_kfolds, ignore=outer_cv.get_test_participants(), batch_size=batch_size)\n",
    "\n",
    "learning_rate = 0.02\n",
    "\n",
    "# Define the loss function and optimizer\n",
    "loss = nn.CrossEntropyLoss()\n",
    "optimizer = optim.SGD(model.parameters(), lr=learning_rate)\n",
    "\n",
    "# Define trainer \n",
    "save_path = join(project_path, 'saved_models/{}s_{}'.format(data_type, model_type))\n",
    "\n",
    "trainer = Trainer(model, save_path, loss, optimizer=optimizer)"
   ]
  },
  {
   "cell_type": "code",
   "execution_count": 3,
   "id": "d4f15683",
   "metadata": {
    "ExecuteTime": {
     "end_time": "2024-03-11T14:14:35.490514700Z",
     "start_time": "2024-03-11T14:12:09.768964300Z"
    }
   },
   "outputs": [
    {
     "name": "stdout",
     "output_type": "stream",
     "text": [
      "fold: 1\n",
      "validating on:  ['31', '4', '29', '5']\n",
      "11.03 15:12:12 --- Epoch [1], Loss: 1.2640, Val acc: 76.19\n",
      "11.03 15:12:13 --- Epoch [2], Loss: 0.5953, Val acc: 76.19\n",
      "11.03 15:12:14 --- Epoch [3], Loss: 0.6075, Val acc: 76.19\n",
      "11.03 15:12:14 --- Epoch [4], Loss: 0.6823, Val acc: 76.19\n",
      "11.03 15:12:15 --- Epoch [5], Loss: 0.6628, Val acc: 76.19\n",
      "11.03 15:12:16 --- Epoch [6], Loss: 0.6630, Val acc: 76.19\n",
      "11.03 15:12:17 --- Epoch [7], Loss: 0.6439, Val acc: 76.19\n",
      "11.03 15:12:18 --- Epoch [8], Loss: 0.6314, Val acc: 76.19\n",
      "11.03 15:12:19 --- Epoch [9], Loss: 0.6036, Val acc: 76.19\n",
      "11.03 15:12:20 --- Epoch [10], Loss: 0.6306, Val acc: 76.19\n",
      "11.03 15:12:21 --- Epoch [11], Loss: 0.6106, Val acc: 76.19\n",
      "11.03 15:12:22 --- Epoch [12], Loss: 0.5844, Val acc: 76.19\n",
      "11.03 15:12:23 --- Epoch [13], Loss: 0.5615, Val acc: 76.19\n",
      "11.03 15:12:24 --- Epoch [14], Loss: 0.5788, Val acc: 76.19\n",
      "11.03 15:12:25 --- Epoch [15], Loss: 0.5913, Val acc: 76.19\n",
      "11.03 15:12:26 --- Epoch [16], Loss: 0.5687, Val acc: 76.19\n",
      "11.03 15:12:28 --- Epoch [17], Loss: 0.5662, Val acc: 76.19\n",
      "11.03 15:12:29 --- Epoch [18], Loss: 0.5293, Val acc: 76.19\n",
      "11.03 15:12:30 --- Epoch [19], Loss: 0.4840, Val acc: 76.19\n",
      "11.03 15:12:31 --- Epoch [20], Loss: 0.4388, Val acc: 76.19\n",
      "fold: 2\n",
      "validating on:  ['22', '9', '32', '11']\n",
      "11.03 15:12:32 --- Epoch [21], Loss: 0.3635, Val acc: 88.64\n",
      "11.03 15:12:33 --- Epoch [22], Loss: 0.3098, Val acc: 90.91\n",
      "11.03 15:12:34 --- Epoch [23], Loss: 0.2921, Val acc: 90.91\n",
      "11.03 15:12:35 --- Epoch [24], Loss: 0.2762, Val acc: 93.18\n",
      "11.03 15:12:36 --- Epoch [25], Loss: 0.2686, Val acc: 88.64\n",
      "11.03 15:12:37 --- Epoch [26], Loss: 0.2707, Val acc: 93.18\n",
      "11.03 15:12:38 --- Epoch [27], Loss: 0.2865, Val acc: 95.45\n",
      "11.03 15:12:39 --- Epoch [28], Loss: 0.2610, Val acc: 88.64\n",
      "11.03 15:12:40 --- Epoch [29], Loss: 0.2640, Val acc: 88.64\n",
      "11.03 15:12:41 --- Epoch [30], Loss: 0.2665, Val acc: 95.45\n",
      "11.03 15:12:42 --- Epoch [31], Loss: 0.2663, Val acc: 93.18\n",
      "11.03 15:12:44 --- Epoch [32], Loss: 0.3059, Val acc: 93.18\n",
      "11.03 15:12:45 --- Epoch [33], Loss: 0.2935, Val acc: 93.18\n",
      "11.03 15:12:46 --- Epoch [34], Loss: 0.2703, Val acc: 95.45\n",
      "11.03 15:12:47 --- Epoch [35], Loss: 0.2618, Val acc: 95.45\n",
      "11.03 15:12:48 --- Epoch [36], Loss: 0.2681, Val acc: 93.18\n",
      "11.03 15:12:49 --- Epoch [37], Loss: 0.2786, Val acc: 93.18\n",
      "11.03 15:12:50 --- Epoch [38], Loss: 0.2598, Val acc: 93.18\n",
      "11.03 15:12:51 --- Epoch [39], Loss: 0.2686, Val acc: 93.18\n",
      "11.03 15:12:52 --- Epoch [40], Loss: 0.2568, Val acc: 93.18\n",
      "fold: 3\n",
      "validating on:  ['26', '21', '20', '10']\n",
      "11.03 15:12:53 --- Epoch [41], Loss: 0.2036, Val acc: 50.00\n",
      "11.03 15:12:54 --- Epoch [42], Loss: 0.3757, Val acc: 84.21\n",
      "11.03 15:12:55 --- Epoch [43], Loss: 0.2432, Val acc: 84.21\n",
      "11.03 15:12:56 --- Epoch [44], Loss: 0.2746, Val acc: 81.58\n",
      "11.03 15:12:57 --- Epoch [45], Loss: 0.2163, Val acc: 84.21\n",
      "11.03 15:12:58 --- Epoch [46], Loss: 0.2270, Val acc: 81.58\n",
      "11.03 15:12:59 --- Epoch [47], Loss: 0.2399, Val acc: 84.21\n",
      "11.03 15:13:00 --- Epoch [48], Loss: 0.3198, Val acc: 76.32\n",
      "11.03 15:13:01 --- Epoch [49], Loss: 0.2341, Val acc: 84.21\n",
      "11.03 15:13:02 --- Epoch [50], Loss: 0.2324, Val acc: 81.58\n",
      "11.03 15:13:03 --- Epoch [51], Loss: 0.2546, Val acc: 81.58\n",
      "11.03 15:13:04 --- Epoch [52], Loss: 0.2924, Val acc: 44.74\n",
      "11.03 15:13:05 --- Epoch [53], Loss: 0.3717, Val acc: 81.58\n",
      "11.03 15:13:06 --- Epoch [54], Loss: 0.2708, Val acc: 78.95\n",
      "11.03 15:13:07 --- Epoch [55], Loss: 0.2222, Val acc: 86.84\n",
      "11.03 15:13:08 --- Epoch [56], Loss: 0.2570, Val acc: 81.58\n",
      "11.03 15:13:10 --- Epoch [57], Loss: 0.2271, Val acc: 84.21\n",
      "11.03 15:13:11 --- Epoch [58], Loss: 0.1987, Val acc: 81.58\n",
      "11.03 15:13:12 --- Epoch [59], Loss: 0.1908, Val acc: 81.58\n",
      "11.03 15:13:13 --- Epoch [60], Loss: 0.3021, Val acc: 71.05\n",
      "fold: 4\n",
      "validating on:  ['13', '33', '25', '3']\n",
      "11.03 15:13:14 --- Epoch [61], Loss: 0.3926, Val acc: 92.86\n",
      "11.03 15:13:15 --- Epoch [62], Loss: 0.2627, Val acc: 97.62\n",
      "11.03 15:13:16 --- Epoch [63], Loss: 0.2460, Val acc: 97.62\n",
      "11.03 15:13:17 --- Epoch [64], Loss: 0.2407, Val acc: 97.62\n",
      "11.03 15:13:18 --- Epoch [65], Loss: 0.2347, Val acc: 97.62\n",
      "11.03 15:13:19 --- Epoch [66], Loss: 0.2380, Val acc: 92.86\n",
      "11.03 15:13:20 --- Epoch [67], Loss: 0.2427, Val acc: 97.62\n",
      "11.03 15:13:21 --- Epoch [68], Loss: 0.2323, Val acc: 95.24\n",
      "11.03 15:13:22 --- Epoch [69], Loss: 0.2298, Val acc: 92.86\n",
      "11.03 15:13:23 --- Epoch [70], Loss: 0.2346, Val acc: 92.86\n",
      "11.03 15:13:24 --- Epoch [71], Loss: 0.2344, Val acc: 95.24\n",
      "11.03 15:13:25 --- Epoch [72], Loss: 0.2302, Val acc: 97.62\n",
      "11.03 15:13:26 --- Epoch [73], Loss: 0.2213, Val acc: 92.86\n",
      "11.03 15:13:27 --- Epoch [74], Loss: 0.2231, Val acc: 97.62\n",
      "11.03 15:13:28 --- Epoch [75], Loss: 0.2249, Val acc: 95.24\n",
      "11.03 15:13:29 --- Epoch [76], Loss: 0.2201, Val acc: 95.24\n",
      "11.03 15:13:30 --- Epoch [77], Loss: 0.2257, Val acc: 92.86\n",
      "11.03 15:13:31 --- Epoch [78], Loss: 0.2237, Val acc: 92.86\n",
      "11.03 15:13:32 --- Epoch [79], Loss: 0.2290, Val acc: 97.62\n",
      "11.03 15:13:33 --- Epoch [80], Loss: 0.2236, Val acc: 95.24\n",
      "fold: 5\n",
      "validating on:  ['15', '16', '23', '28']\n",
      "11.03 15:13:34 --- Epoch [81], Loss: 0.2350, Val acc: 95.45\n",
      "11.03 15:13:35 --- Epoch [82], Loss: 0.2234, Val acc: 95.45\n",
      "11.03 15:13:36 --- Epoch [83], Loss: 0.2171, Val acc: 95.45\n",
      "11.03 15:13:37 --- Epoch [84], Loss: 0.2307, Val acc: 95.45\n",
      "11.03 15:13:38 --- Epoch [85], Loss: 0.2209, Val acc: 95.45\n",
      "11.03 15:13:39 --- Epoch [86], Loss: 0.2067, Val acc: 95.45\n",
      "11.03 15:13:40 --- Epoch [87], Loss: 0.2050, Val acc: 95.45\n",
      "11.03 15:13:41 --- Epoch [88], Loss: 0.2069, Val acc: 95.45\n",
      "11.03 15:13:42 --- Epoch [89], Loss: 0.2194, Val acc: 95.45\n",
      "11.03 15:13:43 --- Epoch [90], Loss: 0.2037, Val acc: 95.45\n",
      "11.03 15:13:44 --- Epoch [91], Loss: 0.2085, Val acc: 95.45\n",
      "11.03 15:13:45 --- Epoch [92], Loss: 0.2126, Val acc: 95.45\n",
      "11.03 15:13:46 --- Epoch [93], Loss: 0.2088, Val acc: 95.45\n",
      "11.03 15:13:48 --- Epoch [94], Loss: 0.2068, Val acc: 93.18\n",
      "11.03 15:13:49 --- Epoch [95], Loss: 0.1977, Val acc: 93.18\n",
      "11.03 15:13:50 --- Epoch [96], Loss: 0.2098, Val acc: 95.45\n",
      "11.03 15:13:51 --- Epoch [97], Loss: 0.2020, Val acc: 95.45\n",
      "11.03 15:13:52 --- Epoch [98], Loss: 0.1951, Val acc: 93.18\n",
      "11.03 15:13:53 --- Epoch [99], Loss: 0.2092, Val acc: 95.45\n",
      "11.03 15:13:54 --- Epoch [100], Loss: 0.1999, Val acc: 95.45\n",
      "fold: 6\n",
      "validating on:  ['30', '7', '14', '6']\n",
      "11.03 15:13:55 --- Epoch [101], Loss: 0.1828, Val acc: 90.48\n",
      "11.03 15:13:56 --- Epoch [102], Loss: 0.1683, Val acc: 88.10\n",
      "11.03 15:13:57 --- Epoch [103], Loss: 0.1840, Val acc: 88.10\n",
      "11.03 15:13:58 --- Epoch [104], Loss: 0.1628, Val acc: 88.10\n",
      "11.03 15:13:59 --- Epoch [105], Loss: 0.1587, Val acc: 90.48\n",
      "11.03 15:14:00 --- Epoch [106], Loss: 0.1532, Val acc: 85.71\n",
      "11.03 15:14:01 --- Epoch [107], Loss: 0.1505, Val acc: 90.48\n",
      "11.03 15:14:02 --- Epoch [108], Loss: 0.1887, Val acc: 90.48\n",
      "11.03 15:14:03 --- Epoch [109], Loss: 0.1568, Val acc: 88.10\n",
      "11.03 15:14:04 --- Epoch [110], Loss: 0.1542, Val acc: 88.10\n",
      "11.03 15:14:05 --- Epoch [111], Loss: 0.1518, Val acc: 90.48\n",
      "11.03 15:14:06 --- Epoch [112], Loss: 0.1463, Val acc: 88.10\n",
      "11.03 15:14:07 --- Epoch [113], Loss: 0.1555, Val acc: 90.48\n",
      "11.03 15:14:08 --- Epoch [114], Loss: 0.1503, Val acc: 90.48\n",
      "11.03 15:14:09 --- Epoch [115], Loss: 0.1508, Val acc: 90.48\n",
      "11.03 15:14:10 --- Epoch [116], Loss: 0.1424, Val acc: 85.71\n",
      "11.03 15:14:11 --- Epoch [117], Loss: 0.1528, Val acc: 88.10\n",
      "11.03 15:14:12 --- Epoch [118], Loss: 0.1407, Val acc: 90.48\n",
      "11.03 15:14:13 --- Epoch [119], Loss: 0.1466, Val acc: 88.10\n",
      "11.03 15:14:14 --- Epoch [120], Loss: 0.1602, Val acc: 88.10\n",
      "fold: 7\n",
      "validating on:  ['34', '19', '24', '35']\n",
      "11.03 15:14:15 --- Epoch [121], Loss: 0.1721, Val acc: 93.18\n",
      "11.03 15:14:16 --- Epoch [122], Loss: 0.1566, Val acc: 86.36\n",
      "11.03 15:14:18 --- Epoch [123], Loss: 0.1760, Val acc: 88.64\n",
      "11.03 15:14:19 --- Epoch [124], Loss: 0.1707, Val acc: 90.91\n",
      "11.03 15:14:20 --- Epoch [125], Loss: 0.1584, Val acc: 90.91\n",
      "11.03 15:14:21 --- Epoch [126], Loss: 0.1541, Val acc: 86.36\n",
      "11.03 15:14:22 --- Epoch [127], Loss: 0.1540, Val acc: 93.18\n",
      "11.03 15:14:23 --- Epoch [128], Loss: 0.1558, Val acc: 86.36\n",
      "11.03 15:14:24 --- Epoch [129], Loss: 0.1550, Val acc: 90.91\n",
      "11.03 15:14:25 --- Epoch [130], Loss: 0.1633, Val acc: 90.91\n",
      "11.03 15:14:26 --- Epoch [131], Loss: 0.1642, Val acc: 86.36\n",
      "11.03 15:14:27 --- Epoch [132], Loss: 0.1519, Val acc: 90.91\n",
      "11.03 15:14:28 --- Epoch [133], Loss: 0.1552, Val acc: 86.36\n",
      "11.03 15:14:29 --- Epoch [134], Loss: 0.1418, Val acc: 90.91\n",
      "11.03 15:14:30 --- Epoch [135], Loss: 0.1448, Val acc: 93.18\n",
      "11.03 15:14:31 --- Epoch [136], Loss: 0.1387, Val acc: 86.36\n",
      "11.03 15:14:32 --- Epoch [137], Loss: 0.1364, Val acc: 84.09\n",
      "11.03 15:14:33 --- Epoch [138], Loss: 0.1630, Val acc: 86.36\n",
      "11.03 15:14:34 --- Epoch [139], Loss: 0.1446, Val acc: 90.91\n",
      "11.03 15:14:35 --- Epoch [140], Loss: 0.1363, Val acc: 86.36\n"
     ]
    }
   ],
   "source": [
    "# training\n",
    "for i in range(inner_cv.get_k()):\n",
    "    print(f'fold: {i+1}')\n",
    "    num_epochs = 20\n",
    "    train_loader = inner_cv.get_train_loader()\n",
    "    test_loader = inner_cv.get_test_loader()\n",
    "    print('validating on: ', inner_cv.get_test_participants())\n",
    "    trainer.set_train_loader(train_loader)\n",
    "    trainer.set_val_loader(test_loader)\n",
    "    for _ in range(num_epochs):\n",
    "        trainer.run_epoch()\n",
    "    inner_cv.next_split()"
   ]
  },
  {
   "cell_type": "code",
   "execution_count": 4,
   "id": "84c13db5",
   "metadata": {
    "ExecuteTime": {
     "end_time": "2024-03-11T14:14:35.636515800Z",
     "start_time": "2024-03-11T14:14:35.492514300Z"
    }
   },
   "outputs": [
    {
     "name": "stdout",
     "output_type": "stream",
     "text": [
      "Saving best model to   C:/Users/Admin/projects/Eye_Tracking/saved_models/heatmaps_def_cnn\\best_model.pkl\n",
      "testing on:  ['17', '18', '8', '2']\n"
     ]
    },
    {
     "data": {
      "text/plain": "0.9545454545454546"
     },
     "execution_count": 4,
     "metadata": {},
     "output_type": "execute_result"
    }
   ],
   "source": [
    "trainer.save_best_model()\n",
    "print('testing on: ', outer_cv.get_test_participants())\n",
    "trainer.test(outer_cv.get_test_loader())\n",
    "# ['17', '18', '8', '2']"
   ]
  },
  {
   "cell_type": "code",
   "execution_count": 13,
   "id": "d0dd33f8",
   "metadata": {
    "ExecuteTime": {
     "end_time": "2024-03-11T14:58:13.029174400Z",
     "start_time": "2024-03-11T14:58:12.999174400Z"
    }
   },
   "outputs": [],
   "source": [
    "test_model = BasicModel(in_size, out_size)\n",
    "test_model.load_state_dict(torch.load(join(project_path, 'saved_models/heatmaps_def_cnn/best_model.pkl')))\n",
    "test_pp = ['17', '18', '8', '2']"
   ]
  },
  {
   "cell_type": "code",
   "execution_count": 6,
   "outputs": [],
   "source": [
    "test_trainer = Trainer(test_model, save_path, loss, optimizer=optimizer)\n"
   ],
   "metadata": {
    "collapsed": false,
    "ExecuteTime": {
     "end_time": "2024-03-11T14:14:35.693515500Z",
     "start_time": "2024-03-11T14:14:35.654515100Z"
    }
   }
  },
  {
   "cell_type": "code",
   "execution_count": 11,
   "outputs": [
    {
     "name": "stdout",
     "output_type": "stream",
     "text": [
      "0.9545454545454546\n",
      "0.953168044077135\n"
     ]
    }
   ],
   "source": [
    "print(compute_accuracy(test_model, dataset, test_pp))\n",
    "print(compute_f1score(test_model, dataset, test_pp))"
   ],
   "metadata": {
    "collapsed": false,
    "ExecuteTime": {
     "end_time": "2024-03-11T14:53:52.227750500Z",
     "start_time": "2024-03-11T14:53:50.512752900Z"
    }
   }
  },
  {
   "cell_type": "code",
   "execution_count": 11,
   "outputs": [
    {
     "data": {
      "text/plain": "['17', '18', '8', '2']"
     },
     "execution_count": 11,
     "metadata": {},
     "output_type": "execute_result"
    }
   ],
   "source": [
    "outer_cv.get_test_participants()"
   ],
   "metadata": {
    "collapsed": false,
    "ExecuteTime": {
     "end_time": "2024-03-11T14:17:19.697327300Z",
     "start_time": "2024-03-11T14:17:19.690328800Z"
    }
   }
  },
  {
   "cell_type": "code",
   "execution_count": 14,
   "outputs": [],
   "source": [
    "cfs = compute_confusion_matrices(test_model, dataset, test_pp)"
   ],
   "metadata": {
    "collapsed": false,
    "ExecuteTime": {
     "end_time": "2024-03-11T14:58:16.808173800Z",
     "start_time": "2024-03-11T14:58:15.945176300Z"
    }
   }
  },
  {
   "cell_type": "code",
   "execution_count": 15,
   "outputs": [
    {
     "data": {
      "text/plain": "<Figure size 1600x400 with 4 Axes>",
      "image/png": "[encoded data removed]"
     },
     "metadata": {},
     "output_type": "display_data"
    },
    {
     "data": {
      "text/plain": "<Figure size 800x600 with 1 Axes>",
      "image/png": "[encoded data removed]"
     },
     "metadata": {},
     "output_type": "display_data"
    }
   ],
   "source": [
    "visualize_confusion_matrices(cfs)"
   ],
   "metadata": {
    "collapsed": false,
    "ExecuteTime": {
     "end_time": "2024-03-11T14:58:17.403173100Z",
     "start_time": "2024-03-11T14:58:16.810171800Z"
    }
   }
  }
 ],
 "metadata": {
  "kernelspec": {
   "display_name": "Python 3 (ipykernel)",
   "language": "python",
   "name": "python3"
  },
  "language_info": {
   "codemirror_mode": {
    "name": "ipython",
    "version": 3
   },
   "file_extension": ".py",
   "mimetype": "text/x-python",
   "name": "python",
   "nbconvert_exporter": "python",
   "pygments_lexer": "ipython3",
   "version": "3.11.8"
  }
 },
 "nbformat": 4,
 "nbformat_minor": 5
}
