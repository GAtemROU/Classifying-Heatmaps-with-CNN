{
 "cells": [
  {
   "cell_type": "code",
   "execution_count": 20,
   "id": "9128a956",
   "metadata": {},
   "outputs": [],
   "source": [
    "import os\n",
    "from PIL import Image\n",
    "\n",
    "\"Code used to crop images as parts of them were not related to the data\"\n",
    "\n",
    "project_path = \"/home/gatemrou/uds/Eye_Tracking/\"\n",
    "orig_scanpaths = \"data/rawdata/scanpaths_fixed/\"\n",
    "orig_heatmaps = \"data/rawdata/heatmap_fixed/\"\n",
    "save_scanpaths = \"data/cropped/scanpaths/\"\n",
    "save_heatmaps = \"data/cropped/heatmaps/\""
   ]
  },
  {
   "cell_type": "code",
   "execution_count": 31,
   "id": "8883aff2",
   "metadata": {},
   "outputs": [],
   "source": [
    "# scanpaths\n",
    "\n",
    "x_1 = 100\n",
    "x_2 = 1400\n",
    "y_1 = 399\n",
    "y_2 = 599\n",
    "\n",
    "for filename in os.listdir(project_path+orig_scanpaths):\n",
    "    image = Image.open(project_path+orig_scanpaths+filename)\n",
    "    image = image.crop((x_1, y_1, x_2, y_2))\n",
    "    image.save(project_path+save_scanpaths+filename)\n"
   ]
  },
  {
   "cell_type": "code",
   "execution_count": 32,
   "id": "f8b9dfa3",
   "metadata": {},
   "outputs": [],
   "source": [
    "# heatmaps\n",
    "\n",
    "x_1 = 0\n",
    "x_2 = 1500\n",
    "y_1 = 399\n",
    "y_2 = 599\n",
    "\n",
    "for filename in os.listdir(project_path+orig_heatmaps):\n",
    "    image = Image.open(project_path+orig_heatmaps+filename)\n",
    "    image = image.crop((x_1, y_1, x_2, y_2))\n",
    "    image.save(project_path+save_heatmaps+filename)\n",
    "\n"
   ]
  }
 ],
 "metadata": {
  "kernelspec": {
   "display_name": "Python 3 (ipykernel)",
   "language": "python",
   "name": "python3"
  },
  "language_info": {
   "codemirror_mode": {
    "name": "ipython",
    "version": 3
   },
   "file_extension": ".py",
   "mimetype": "text/x-python",
   "name": "python",
   "nbconvert_exporter": "python",
   "pygments_lexer": "ipython3",
   "version": "3.11.6"
  }
 },
 "nbformat": 4,
 "nbformat_minor": 5
}
